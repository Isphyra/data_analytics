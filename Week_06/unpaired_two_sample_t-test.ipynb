{
 "cells": [
  {
   "cell_type": "markdown",
   "id": "63a64c4b",
   "metadata": {},
   "source": [
    "# Unpaired two-sample t-test"
   ]
  },
  {
   "cell_type": "markdown",
   "id": "5c34b58a",
   "metadata": {},
   "source": [
    "## Libraries and settings"
   ]
  },
  {
   "cell_type": "code",
   "execution_count": 1,
   "id": "c1300e34",
   "metadata": {},
   "outputs": [
    {
     "name": "stdout",
     "output_type": "stream",
     "text": [
      "/Users/sauternicolas/git/data_analytics/Week_06\n"
     ]
    }
   ],
   "source": [
    "# Libraries\n",
    "import os\n",
    "import pandas as pd\n",
    "import matplotlib.pyplot as plt\n",
    "import seaborn as sns\n",
    "import numpy as np\n",
    "from scipy import stats\n",
    "\n",
    "# Settings for seaborn\n",
    "sns.set_theme(style=\"ticks\", palette=\"pastel\")\n",
    "\n",
    "# Ignore warnings\n",
    "import warnings\n",
    "warnings.filterwarnings(\"ignore\")\n",
    "\n",
    "# Show current working directory\n",
    "print(os.getcwd())"
   ]
  },
  {
   "cell_type": "markdown",
   "id": "e1e96aa1",
   "metadata": {},
   "source": [
    "## Read example data (used car data)"
   ]
  },
  {
   "cell_type": "code",
   "execution_count": 2,
   "id": "68403471",
   "metadata": {},
   "outputs": [
    {
     "name": "stdout",
     "output_type": "stream",
     "text": [
      "Make\n",
      "VW     20\n",
      "BMW    20\n",
      "Name: count, dtype: int64\n"
     ]
    },
    {
     "data": {
      "text/html": [
       "<div>\n",
       "<style scoped>\n",
       "    .dataframe tbody tr th:only-of-type {\n",
       "        vertical-align: middle;\n",
       "    }\n",
       "\n",
       "    .dataframe tbody tr th {\n",
       "        vertical-align: top;\n",
       "    }\n",
       "\n",
       "    .dataframe thead th {\n",
       "        text-align: right;\n",
       "    }\n",
       "</style>\n",
       "<table border=\"1\" class=\"dataframe\">\n",
       "  <thead>\n",
       "    <tr style=\"text-align: right;\">\n",
       "      <th></th>\n",
       "      <th>Make</th>\n",
       "      <th>Price</th>\n",
       "    </tr>\n",
       "  </thead>\n",
       "  <tbody>\n",
       "    <tr>\n",
       "      <th>0</th>\n",
       "      <td>VW</td>\n",
       "      <td>29000</td>\n",
       "    </tr>\n",
       "    <tr>\n",
       "      <th>1</th>\n",
       "      <td>VW</td>\n",
       "      <td>38000</td>\n",
       "    </tr>\n",
       "    <tr>\n",
       "      <th>2</th>\n",
       "      <td>VW</td>\n",
       "      <td>33000</td>\n",
       "    </tr>\n",
       "    <tr>\n",
       "      <th>3</th>\n",
       "      <td>VW</td>\n",
       "      <td>64000</td>\n",
       "    </tr>\n",
       "    <tr>\n",
       "      <th>4</th>\n",
       "      <td>VW</td>\n",
       "      <td>52000</td>\n",
       "    </tr>\n",
       "  </tbody>\n",
       "</table>\n",
       "</div>"
      ],
      "text/plain": [
       "  Make  Price\n",
       "0   VW  29000\n",
       "1   VW  38000\n",
       "2   VW  33000\n",
       "3   VW  64000\n",
       "4   VW  52000"
      ]
     },
     "execution_count": 2,
     "metadata": {},
     "output_type": "execute_result"
    }
   ],
   "source": [
    "df = pd.read_excel('t-tests_and_ANOVA.xlsx', sheet_name='t-test_data')\n",
    "\n",
    "# Show categories of 'Make'\n",
    "print(df['Make'].value_counts())\n",
    "\n",
    "# Show first rows in dataframe\n",
    "df.head()"
   ]
  },
  {
   "cell_type": "markdown",
   "id": "ccc6ef50",
   "metadata": {},
   "source": [
    "## Create grouped boxplot (groups = make, values = car prices)"
   ]
  },
  {
   "cell_type": "code",
   "execution_count": 3,
   "id": "dea1629a",
   "metadata": {},
   "outputs": [
    {
     "data": {
      "image/png": "[encoded data removed]",
      "text/plain": [
       "<Figure size 800x200 with 1 Axes>"
      ]
     },
     "metadata": {},
     "output_type": "display_data"
    }
   ],
   "source": [
    "# Plot boxplot with groups\n",
    "plt.figure(figsize=(8,2))\n",
    "ax = sns.boxplot(x=\"Price\",\n",
    "                 y=\"Make\",\n",
    "                 palette=['b', 'r'],\n",
    "                 data=df,\n",
    "                 orient='h')\n",
    "plt.grid()\n",
    "plt.show()"
   ]
  },
  {
   "cell_type": "markdown",
   "id": "f6898880",
   "metadata": {},
   "source": [
    "## Unpaired two-sample t-test"
   ]
  },
  {
   "cell_type": "code",
   "execution_count": 4,
   "id": "4781abe3",
   "metadata": {},
   "outputs": [
    {
     "name": "stdout",
     "output_type": "stream",
     "text": [
      "Test-statistic: -2.69607 p-value 0.0104\n"
     ]
    }
   ],
   "source": [
    "# Create subsets (groups)\n",
    "vw = df.loc[df['Make'] == 'VW']\n",
    "bmw = df.loc[df['Make'] == 'BMW']\n",
    "\n",
    "# Create t-test\n",
    "result = stats.ttest_ind(vw['Price'], bmw['Price'])\n",
    "\n",
    "# Print result\n",
    "print('Test-statistic:', result[0].round(5), 'p-value',  result[1].round(5))"
   ]
  },
  {
   "cell_type": "markdown",
   "id": "19f4e4ff",
   "metadata": {},
   "source": [
    "## Interpretation of result"
   ]
  },
  {
   "cell_type": "markdown",
   "id": "67d3a198",
   "metadata": {},
   "source": [
    "<p> Because the p-value is lower than 0.05, the null hypothesis can be rejected, i.e. there is evidence that the used car prices of VW, BMW differ. Note that, from the t-test above, it is not clear which brand show higher or lower prices. It only shows that there is a statistically significant (5% significance level) difference between prices.</p>"
   ]
  },
  {
   "cell_type": "markdown",
   "id": "2e28ca31",
   "metadata": {},
   "source": [
    "## Compare rental apartment prices in the cities of Winterthur and Zuerich"
   ]
  },
  {
   "cell_type": "code",
   "execution_count": null,
   "id": "859eb5cd",
   "metadata": {},
   "outputs": [],
   "source": []
  },
  {
   "cell_type": "markdown",
   "id": "a639c095",
   "metadata": {},
   "source": [
    "## Importing apartment data"
   ]
  },
  {
   "cell_type": "code",
   "execution_count": 5,
   "id": "2e83ae76",
   "metadata": {},
   "outputs": [
    {
     "name": "stdout",
     "output_type": "stream",
     "text": [
      "(774, 15)\n"
     ]
    },
    {
     "data": {
      "text/html": [
       "<div>\n",
       "<style scoped>\n",
       "    .dataframe tbody tr th:only-of-type {\n",
       "        vertical-align: middle;\n",
       "    }\n",
       "\n",
       "    .dataframe tbody tr th {\n",
       "        vertical-align: top;\n",
       "    }\n",
       "\n",
       "    .dataframe thead th {\n",
       "        text-align: right;\n",
       "    }\n",
       "</style>\n",
       "<table border=\"1\" class=\"dataframe\">\n",
       "  <thead>\n",
       "    <tr style=\"text-align: right;\">\n",
       "      <th></th>\n",
       "      <th>web-scraper-order</th>\n",
       "      <th>address_raw</th>\n",
       "      <th>lat</th>\n",
       "      <th>lon</th>\n",
       "      <th>bfs_number</th>\n",
       "      <th>bfs_name</th>\n",
       "      <th>rooms</th>\n",
       "      <th>area</th>\n",
       "      <th>luxurious</th>\n",
       "      <th>price</th>\n",
       "      <th>price_per_m2</th>\n",
       "      <th>pop_dens</th>\n",
       "      <th>frg_pct</th>\n",
       "      <th>mean_taxable_income</th>\n",
       "      <th>dist_supermarket</th>\n",
       "    </tr>\n",
       "  </thead>\n",
       "  <tbody>\n",
       "    <tr>\n",
       "      <th>0</th>\n",
       "      <td>1693998201-1</td>\n",
       "      <td>Neuhusstrasse 6, 8630 Rüti ZH, ZH</td>\n",
       "      <td>47.252171</td>\n",
       "      <td>8.845797</td>\n",
       "      <td>118</td>\n",
       "      <td>Rüti (ZH)</td>\n",
       "      <td>3.0</td>\n",
       "      <td>49</td>\n",
       "      <td>0</td>\n",
       "      <td>1441</td>\n",
       "      <td>29.41</td>\n",
       "      <td>1221.272366</td>\n",
       "      <td>24.841283</td>\n",
       "      <td>65362.04268</td>\n",
       "      <td>645.652248</td>\n",
       "    </tr>\n",
       "    <tr>\n",
       "      <th>1</th>\n",
       "      <td>1693998233-172</td>\n",
       "      <td>Widacherstrasse 5, 8630 Rüti ZH, ZH</td>\n",
       "      <td>47.252087</td>\n",
       "      <td>8.854919</td>\n",
       "      <td>118</td>\n",
       "      <td>Rüti (ZH)</td>\n",
       "      <td>3.0</td>\n",
       "      <td>111</td>\n",
       "      <td>0</td>\n",
       "      <td>2600</td>\n",
       "      <td>23.42</td>\n",
       "      <td>1221.272366</td>\n",
       "      <td>24.841283</td>\n",
       "      <td>65362.04268</td>\n",
       "      <td>265.102153</td>\n",
       "    </tr>\n",
       "    <tr>\n",
       "      <th>2</th>\n",
       "      <td>1693998256-331</td>\n",
       "      <td>Widenweg 14, 8630 Rüti ZH, ZH</td>\n",
       "      <td>47.253670</td>\n",
       "      <td>8.853993</td>\n",
       "      <td>118</td>\n",
       "      <td>Rüti (ZH)</td>\n",
       "      <td>3.0</td>\n",
       "      <td>58</td>\n",
       "      <td>0</td>\n",
       "      <td>1490</td>\n",
       "      <td>25.69</td>\n",
       "      <td>1221.272366</td>\n",
       "      <td>24.841283</td>\n",
       "      <td>65362.04268</td>\n",
       "      <td>94.401821</td>\n",
       "    </tr>\n",
       "    <tr>\n",
       "      <th>3</th>\n",
       "      <td>1693998265-381</td>\n",
       "      <td>Rain 1, 8630 Rüti ZH, ZH</td>\n",
       "      <td>47.259834</td>\n",
       "      <td>8.851705</td>\n",
       "      <td>118</td>\n",
       "      <td>Rüti (ZH)</td>\n",
       "      <td>4.0</td>\n",
       "      <td>118</td>\n",
       "      <td>0</td>\n",
       "      <td>3240</td>\n",
       "      <td>27.46</td>\n",
       "      <td>1221.272366</td>\n",
       "      <td>24.841283</td>\n",
       "      <td>65362.04268</td>\n",
       "      <td>106.660970</td>\n",
       "    </tr>\n",
       "    <tr>\n",
       "      <th>4</th>\n",
       "      <td>1693998276-419</td>\n",
       "      <td>Bachtelstrasse 24b, 8630 Rüti ZH, ZH</td>\n",
       "      <td>47.266113</td>\n",
       "      <td>8.866872</td>\n",
       "      <td>118</td>\n",
       "      <td>Rüti (ZH)</td>\n",
       "      <td>3.0</td>\n",
       "      <td>66</td>\n",
       "      <td>0</td>\n",
       "      <td>1450</td>\n",
       "      <td>21.97</td>\n",
       "      <td>1221.272366</td>\n",
       "      <td>24.841283</td>\n",
       "      <td>65362.04268</td>\n",
       "      <td>974.844209</td>\n",
       "    </tr>\n",
       "  </tbody>\n",
       "</table>\n",
       "</div>"
      ],
      "text/plain": [
       "  web-scraper-order                           address_raw        lat  \\\n",
       "0      1693998201-1     Neuhusstrasse 6, 8630 Rüti ZH, ZH  47.252171   \n",
       "1    1693998233-172   Widacherstrasse 5, 8630 Rüti ZH, ZH  47.252087   \n",
       "2    1693998256-331         Widenweg 14, 8630 Rüti ZH, ZH  47.253670   \n",
       "3    1693998265-381              Rain 1, 8630 Rüti ZH, ZH  47.259834   \n",
       "4    1693998276-419  Bachtelstrasse 24b, 8630 Rüti ZH, ZH  47.266113   \n",
       "\n",
       "        lon  bfs_number   bfs_name  rooms  area  luxurious  price  \\\n",
       "0  8.845797         118  Rüti (ZH)    3.0    49          0   1441   \n",
       "1  8.854919         118  Rüti (ZH)    3.0   111          0   2600   \n",
       "2  8.853993         118  Rüti (ZH)    3.0    58          0   1490   \n",
       "3  8.851705         118  Rüti (ZH)    4.0   118          0   3240   \n",
       "4  8.866872         118  Rüti (ZH)    3.0    66          0   1450   \n",
       "\n",
       "   price_per_m2     pop_dens    frg_pct  mean_taxable_income  dist_supermarket  \n",
       "0         29.41  1221.272366  24.841283          65362.04268        645.652248  \n",
       "1         23.42  1221.272366  24.841283          65362.04268        265.102153  \n",
       "2         25.69  1221.272366  24.841283          65362.04268         94.401821  \n",
       "3         27.46  1221.272366  24.841283          65362.04268        106.660970  \n",
       "4         21.97  1221.272366  24.841283          65362.04268        974.844209  "
      ]
     },
     "execution_count": 5,
     "metadata": {},
     "output_type": "execute_result"
    }
   ],
   "source": [
    "# Read the data to a pandas data frame\n",
    "df = pd.read_csv('apartments_data_enriched_cleaned.csv', \n",
    "                 sep=';', \n",
    "                 encoding='utf-8')[['web-scraper-order',\n",
    "                                    'address_raw',\n",
    "                                    'lat',\n",
    "                                    'lon',\n",
    "                                    'bfs_number',\n",
    "                                    'bfs_name',\n",
    "                                    'rooms', \n",
    "                                    'area', \n",
    "                                    'luxurious', \n",
    "                                    'price', \n",
    "                                    'price_per_m2',\n",
    "                                    'pop_dens',\n",
    "                                    'frg_pct',\n",
    "                                    'mean_taxable_income',\n",
    "                                    'dist_supermarket']]\n",
    "\n",
    "# Get number of rows and columns\n",
    "print(df.shape)\n",
    "\n",
    "# Show first records\n",
    "df.head(5)"
   ]
  },
  {
   "cell_type": "markdown",
   "id": "45d16590",
   "metadata": {},
   "source": [
    "## Create new binary variable with densely populated and all other municipalities"
   ]
  },
  {
   "cell_type": "code",
   "execution_count": 6,
   "id": "6797da4a",
   "metadata": {},
   "outputs": [
    {
     "data": {
      "text/html": [
       "<div>\n",
       "<style scoped>\n",
       "    .dataframe tbody tr th:only-of-type {\n",
       "        vertical-align: middle;\n",
       "    }\n",
       "\n",
       "    .dataframe tbody tr th {\n",
       "        vertical-align: top;\n",
       "    }\n",
       "\n",
       "    .dataframe thead th {\n",
       "        text-align: right;\n",
       "    }\n",
       "</style>\n",
       "<table border=\"1\" class=\"dataframe\">\n",
       "  <thead>\n",
       "    <tr style=\"text-align: right;\">\n",
       "      <th></th>\n",
       "      <th>web-scraper-order</th>\n",
       "      <th>address_raw</th>\n",
       "      <th>lat</th>\n",
       "      <th>lon</th>\n",
       "      <th>bfs_number</th>\n",
       "      <th>bfs_name</th>\n",
       "      <th>rooms</th>\n",
       "      <th>area</th>\n",
       "      <th>luxurious</th>\n",
       "      <th>price</th>\n",
       "      <th>price_per_m2</th>\n",
       "      <th>pop_dens</th>\n",
       "      <th>frg_pct</th>\n",
       "      <th>mean_taxable_income</th>\n",
       "      <th>dist_supermarket</th>\n",
       "      <th>pop_dens_binary</th>\n",
       "    </tr>\n",
       "  </thead>\n",
       "  <tbody>\n",
       "    <tr>\n",
       "      <th>0</th>\n",
       "      <td>1693998201-1</td>\n",
       "      <td>Neuhusstrasse 6, 8630 Rüti ZH, ZH</td>\n",
       "      <td>47.252171</td>\n",
       "      <td>8.845797</td>\n",
       "      <td>118</td>\n",
       "      <td>Rüti (ZH)</td>\n",
       "      <td>3.0</td>\n",
       "      <td>49</td>\n",
       "      <td>0</td>\n",
       "      <td>1441</td>\n",
       "      <td>29.41</td>\n",
       "      <td>1221.272366</td>\n",
       "      <td>24.841283</td>\n",
       "      <td>65362.04268</td>\n",
       "      <td>645.652248</td>\n",
       "      <td>1</td>\n",
       "    </tr>\n",
       "    <tr>\n",
       "      <th>1</th>\n",
       "      <td>1693998233-172</td>\n",
       "      <td>Widacherstrasse 5, 8630 Rüti ZH, ZH</td>\n",
       "      <td>47.252087</td>\n",
       "      <td>8.854919</td>\n",
       "      <td>118</td>\n",
       "      <td>Rüti (ZH)</td>\n",
       "      <td>3.0</td>\n",
       "      <td>111</td>\n",
       "      <td>0</td>\n",
       "      <td>2600</td>\n",
       "      <td>23.42</td>\n",
       "      <td>1221.272366</td>\n",
       "      <td>24.841283</td>\n",
       "      <td>65362.04268</td>\n",
       "      <td>265.102153</td>\n",
       "      <td>1</td>\n",
       "    </tr>\n",
       "    <tr>\n",
       "      <th>2</th>\n",
       "      <td>1693998256-331</td>\n",
       "      <td>Widenweg 14, 8630 Rüti ZH, ZH</td>\n",
       "      <td>47.253670</td>\n",
       "      <td>8.853993</td>\n",
       "      <td>118</td>\n",
       "      <td>Rüti (ZH)</td>\n",
       "      <td>3.0</td>\n",
       "      <td>58</td>\n",
       "      <td>0</td>\n",
       "      <td>1490</td>\n",
       "      <td>25.69</td>\n",
       "      <td>1221.272366</td>\n",
       "      <td>24.841283</td>\n",
       "      <td>65362.04268</td>\n",
       "      <td>94.401821</td>\n",
       "      <td>1</td>\n",
       "    </tr>\n",
       "    <tr>\n",
       "      <th>3</th>\n",
       "      <td>1693998265-381</td>\n",
       "      <td>Rain 1, 8630 Rüti ZH, ZH</td>\n",
       "      <td>47.259834</td>\n",
       "      <td>8.851705</td>\n",
       "      <td>118</td>\n",
       "      <td>Rüti (ZH)</td>\n",
       "      <td>4.0</td>\n",
       "      <td>118</td>\n",
       "      <td>0</td>\n",
       "      <td>3240</td>\n",
       "      <td>27.46</td>\n",
       "      <td>1221.272366</td>\n",
       "      <td>24.841283</td>\n",
       "      <td>65362.04268</td>\n",
       "      <td>106.660970</td>\n",
       "      <td>1</td>\n",
       "    </tr>\n",
       "    <tr>\n",
       "      <th>4</th>\n",
       "      <td>1693998276-419</td>\n",
       "      <td>Bachtelstrasse 24b, 8630 Rüti ZH, ZH</td>\n",
       "      <td>47.266113</td>\n",
       "      <td>8.866872</td>\n",
       "      <td>118</td>\n",
       "      <td>Rüti (ZH)</td>\n",
       "      <td>3.0</td>\n",
       "      <td>66</td>\n",
       "      <td>0</td>\n",
       "      <td>1450</td>\n",
       "      <td>21.97</td>\n",
       "      <td>1221.272366</td>\n",
       "      <td>24.841283</td>\n",
       "      <td>65362.04268</td>\n",
       "      <td>974.844209</td>\n",
       "      <td>1</td>\n",
       "    </tr>\n",
       "  </tbody>\n",
       "</table>\n",
       "</div>"
      ],
      "text/plain": [
       "  web-scraper-order                           address_raw        lat  \\\n",
       "0      1693998201-1     Neuhusstrasse 6, 8630 Rüti ZH, ZH  47.252171   \n",
       "1    1693998233-172   Widacherstrasse 5, 8630 Rüti ZH, ZH  47.252087   \n",
       "2    1693998256-331         Widenweg 14, 8630 Rüti ZH, ZH  47.253670   \n",
       "3    1693998265-381              Rain 1, 8630 Rüti ZH, ZH  47.259834   \n",
       "4    1693998276-419  Bachtelstrasse 24b, 8630 Rüti ZH, ZH  47.266113   \n",
       "\n",
       "        lon  bfs_number   bfs_name  rooms  area  luxurious  price  \\\n",
       "0  8.845797         118  Rüti (ZH)    3.0    49          0   1441   \n",
       "1  8.854919         118  Rüti (ZH)    3.0   111          0   2600   \n",
       "2  8.853993         118  Rüti (ZH)    3.0    58          0   1490   \n",
       "3  8.851705         118  Rüti (ZH)    4.0   118          0   3240   \n",
       "4  8.866872         118  Rüti (ZH)    3.0    66          0   1450   \n",
       "\n",
       "   price_per_m2     pop_dens    frg_pct  mean_taxable_income  \\\n",
       "0         29.41  1221.272366  24.841283          65362.04268   \n",
       "1         23.42  1221.272366  24.841283          65362.04268   \n",
       "2         25.69  1221.272366  24.841283          65362.04268   \n",
       "3         27.46  1221.272366  24.841283          65362.04268   \n",
       "4         21.97  1221.272366  24.841283          65362.04268   \n",
       "\n",
       "   dist_supermarket  pop_dens_binary  \n",
       "0        645.652248                1  \n",
       "1        265.102153                1  \n",
       "2         94.401821                1  \n",
       "3        106.660970                1  \n",
       "4        974.844209                1  "
      ]
     },
     "execution_count": 6,
     "metadata": {},
     "output_type": "execute_result"
    }
   ],
   "source": [
    "df['pop_dens_binary'] = (df['pop_dens'] >= 1000).astype(int)\n",
    "df.head(5)"
   ]
  },
  {
   "cell_type": "markdown",
   "id": "e495f0cb",
   "metadata": {},
   "source": [
    "## Create pivot table with mean price_per_m2"
   ]
  },
  {
   "cell_type": "code",
   "execution_count": 7,
   "id": "fb97633c",
   "metadata": {},
   "outputs": [
    {
     "data": {
      "text/html": [
       "<div>\n",
       "<style scoped>\n",
       "    .dataframe tbody tr th:only-of-type {\n",
       "        vertical-align: middle;\n",
       "    }\n",
       "\n",
       "    .dataframe tbody tr th {\n",
       "        vertical-align: top;\n",
       "    }\n",
       "\n",
       "    .dataframe thead tr th {\n",
       "        text-align: left;\n",
       "    }\n",
       "\n",
       "    .dataframe thead tr:last-of-type th {\n",
       "        text-align: right;\n",
       "    }\n",
       "</style>\n",
       "<table border=\"1\" class=\"dataframe\">\n",
       "  <thead>\n",
       "    <tr>\n",
       "      <th></th>\n",
       "      <th>mean</th>\n",
       "      <th>count</th>\n",
       "    </tr>\n",
       "    <tr>\n",
       "      <th></th>\n",
       "      <th>price_per_m2</th>\n",
       "      <th>price_per_m2</th>\n",
       "    </tr>\n",
       "    <tr>\n",
       "      <th>pop_dens_binary</th>\n",
       "      <th></th>\n",
       "      <th></th>\n",
       "    </tr>\n",
       "  </thead>\n",
       "  <tbody>\n",
       "    <tr>\n",
       "      <th>0</th>\n",
       "      <td>24.367444</td>\n",
       "      <td>180</td>\n",
       "    </tr>\n",
       "    <tr>\n",
       "      <th>1</th>\n",
       "      <td>35.430657</td>\n",
       "      <td>594</td>\n",
       "    </tr>\n",
       "  </tbody>\n",
       "</table>\n",
       "</div>"
      ],
      "text/plain": [
       "                        mean        count\n",
       "                price_per_m2 price_per_m2\n",
       "pop_dens_binary                          \n",
       "0                  24.367444          180\n",
       "1                  35.430657          594"
      ]
     },
     "execution_count": 7,
     "metadata": {},
     "output_type": "execute_result"
    }
   ],
   "source": [
    "# Using pivot_table to reshape the data and calculate means \n",
    "pd.pivot_table(df[['pop_dens_binary', 'price_per_m2']],\n",
    "               index=['pop_dens_binary'],\n",
    "               values=['price_per_m2'],\n",
    "               aggfunc=[np.mean, 'count'])"
   ]
  },
  {
   "cell_type": "markdown",
   "id": "a154e4d5",
   "metadata": {},
   "source": [
    "## Create grouped boxplot (groups = pop_dens_binary, values = prices_per_m2)"
   ]
  },
  {
   "cell_type": "code",
   "execution_count": 8,
   "id": "51c49c78",
   "metadata": {},
   "outputs": [
    {
     "data": {
      "image/png": "[encoded data removed]",
      "text/plain": [
       "<Figure size 800x200 with 1 Axes>"
      ]
     },
     "metadata": {},
     "output_type": "display_data"
    }
   ],
   "source": [
    "# Plot boxplot with groups\n",
    "plt.figure(figsize=(8,2))\n",
    "ax = sns.boxplot(x=\"price_per_m2\",\n",
    "                 y=\"pop_dens_binary\",\n",
    "                 data=df,\n",
    "                 palette=['r', 'g'],\n",
    "                 orient='h')\n",
    "plt.grid()\n",
    "plt.show()"
   ]
  },
  {
   "cell_type": "markdown",
   "id": "22ca2122",
   "metadata": {},
   "source": [
    "## Unpaired two-sample t-test"
   ]
  },
  {
   "cell_type": "code",
   "execution_count": 9,
   "id": "d1cead15",
   "metadata": {},
   "outputs": [
    {
     "name": "stdout",
     "output_type": "stream",
     "text": [
      "Test-statistic: -9.19477 p-value 0.0\n"
     ]
    }
   ],
   "source": [
    "# Create subsets (groups)\n",
    "densely_populated = df.loc[df['pop_dens_binary'] == 0]\n",
    "not_densely_populated = df.loc[df['pop_dens_binary'] == 1]\n",
    "\n",
    "# Create t-test\n",
    "result = stats.ttest_ind(densely_populated['price_per_m2'], \n",
    "                         not_densely_populated['price_per_m2'])\n",
    "\n",
    "# Print result\n",
    "print('Test-statistic:', result[0].round(5), 'p-value',  result[1].round(5))"
   ]
  },
  {
   "cell_type": "markdown",
   "id": "f4876e12",
   "metadata": {},
   "source": [
    "## Interpretation of result"
   ]
  },
  {
   "cell_type": "markdown",
   "id": "9ab5da97",
   "metadata": {},
   "source": [
    "<p> Because the p-value is lower than 0.05, the null hypothesis can be rejected, i.e. there is evidence that the prices per m2 differ between densely populated and other municipalities. Note that, from the t-test above, it is not clear which group of municipalities show lower or higher prices. It only shows that there is a statistically significant (5% significance level) difference between prices.</p>"
   ]
  },
  {
   "cell_type": "markdown",
   "id": "525aee9d",
   "metadata": {},
   "source": [
    "### Jupyter notebook --footer info-- (please always provide this at the end of each submitted notebook)"
   ]
  },
  {
   "cell_type": "code",
   "execution_count": 10,
   "id": "936486dc",
   "metadata": {},
   "outputs": [
    {
     "name": "stdout",
     "output_type": "stream",
     "text": [
      "-----------------------------------\n",
      "POSIX\n",
      "Darwin | 24.0.0\n",
      "Datetime: 2024-10-23 14:01:07\n",
      "Python Version: 3.10.14\n",
      "-----------------------------------\n"
     ]
    }
   ],
   "source": [
    "import os\n",
    "import platform\n",
    "import socket\n",
    "from platform import python_version\n",
    "from datetime import datetime\n",
    "\n",
    "print('-----------------------------------')\n",
    "print(os.name.upper())\n",
    "print(platform.system(), '|', platform.release())\n",
    "print('Datetime:', datetime.now().strftime(\"%Y-%m-%d %H:%M:%S\"))\n",
    "print('Python Version:', python_version())\n",
    "print('-----------------------------------')"
   ]
  }
 ],
 "metadata": {
  "kernelspec": {
   "display_name": "Python 3 (ipykernel)",
   "language": "python",
   "name": "python3"
  },
  "language_info": {
   "codemirror_mode": {
    "name": "ipython",
    "version": 3
   },
   "file_extension": ".py",
   "mimetype": "text/x-python",
   "name": "python",
   "nbconvert_exporter": "python",
   "pygments_lexer": "ipython3",
   "version": "3.10.14"
  }
 },
 "nbformat": 4,
 "nbformat_minor": 5
}
