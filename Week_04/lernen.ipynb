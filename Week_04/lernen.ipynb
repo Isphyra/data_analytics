{
 "cells": [
  {
   "cell_type": "code",
   "execution_count": 39,
   "metadata": {},
   "outputs": [],
   "source": [
    "import pandas as pd\n",
    "from pandas import Series, DataFrame\n"
   ]
  },
  {
   "cell_type": "code",
   "execution_count": 40,
   "metadata": {},
   "outputs": [
    {
     "name": "stdout",
     "output_type": "stream",
     "text": [
      "              id        lat       lon   brand         shop\n",
      "0       33126515  47.155616  9.037915    Spar  supermarket\n",
      "1      280130028  47.155492  9.039666    ALDI  supermarket\n",
      "2     6122906632  47.158959  9.044477  Denner  supermarket\n",
      "3     9019298862  47.155185  9.038472    Lidl  supermarket\n",
      "4       36726161  47.226191  8.980329  Migros  supermarket\n",
      "...          ...        ...       ...     ...          ...\n",
      "3237  9807355484  46.711465  7.964054     NaN  supermarket\n",
      "3238  9950926547  47.392404  9.569855    Volg  supermarket\n",
      "3239  9963973121  47.321761  9.426943    Volg  supermarket\n",
      "3240  9978766657  47.424524  7.126737     NaN  supermarket\n",
      "3241  9979931913  46.010662  8.856326     NaN  supermarket\n",
      "\n",
      "[3242 rows x 5 columns]\n"
     ]
    }
   ],
   "source": [
    "df = pd.read_csv('supermarkets_data_enriched.csv', usecols= ['id', 'lat', 'lon', 'brand', 'shop'])\n",
    "print(df)"
   ]
  },
  {
   "cell_type": "markdown",
   "metadata": {},
   "source": [
    "### how can i get those rows in which brand is Spar\n",
    ".loc first agrument i a \"row selector\" -- it can be a bunch of diffrent types"
   ]
  },
  {
   "cell_type": "code",
   "execution_count": 41,
   "metadata": {},
   "outputs": [
    {
     "data": {
      "text/html": [
       "<div>\n",
       "<style scoped>\n",
       "    .dataframe tbody tr th:only-of-type {\n",
       "        vertical-align: middle;\n",
       "    }\n",
       "\n",
       "    .dataframe tbody tr th {\n",
       "        vertical-align: top;\n",
       "    }\n",
       "\n",
       "    .dataframe thead th {\n",
       "        text-align: right;\n",
       "    }\n",
       "</style>\n",
       "<table border=\"1\" class=\"dataframe\">\n",
       "  <thead>\n",
       "    <tr style=\"text-align: right;\">\n",
       "      <th></th>\n",
       "      <th>id</th>\n",
       "      <th>lat</th>\n",
       "      <th>lon</th>\n",
       "      <th>brand</th>\n",
       "      <th>shop</th>\n",
       "    </tr>\n",
       "  </thead>\n",
       "  <tbody>\n",
       "    <tr>\n",
       "      <th>0</th>\n",
       "      <td>33126515</td>\n",
       "      <td>47.155616</td>\n",
       "      <td>9.037915</td>\n",
       "      <td>Spar</td>\n",
       "      <td>supermarket</td>\n",
       "    </tr>\n",
       "    <tr>\n",
       "      <th>1</th>\n",
       "      <td>280130028</td>\n",
       "      <td>47.155492</td>\n",
       "      <td>9.039666</td>\n",
       "      <td>ALDI</td>\n",
       "      <td>supermarket</td>\n",
       "    </tr>\n",
       "    <tr>\n",
       "      <th>2</th>\n",
       "      <td>6122906632</td>\n",
       "      <td>47.158959</td>\n",
       "      <td>9.044477</td>\n",
       "      <td>Denner</td>\n",
       "      <td>supermarket</td>\n",
       "    </tr>\n",
       "    <tr>\n",
       "      <th>3</th>\n",
       "      <td>9019298862</td>\n",
       "      <td>47.155185</td>\n",
       "      <td>9.038472</td>\n",
       "      <td>Lidl</td>\n",
       "      <td>supermarket</td>\n",
       "    </tr>\n",
       "    <tr>\n",
       "      <th>4</th>\n",
       "      <td>36726161</td>\n",
       "      <td>47.226191</td>\n",
       "      <td>8.980329</td>\n",
       "      <td>Migros</td>\n",
       "      <td>supermarket</td>\n",
       "    </tr>\n",
       "    <tr>\n",
       "      <th>...</th>\n",
       "      <td>...</td>\n",
       "      <td>...</td>\n",
       "      <td>...</td>\n",
       "      <td>...</td>\n",
       "      <td>...</td>\n",
       "    </tr>\n",
       "    <tr>\n",
       "      <th>3237</th>\n",
       "      <td>9807355484</td>\n",
       "      <td>46.711465</td>\n",
       "      <td>7.964054</td>\n",
       "      <td>NaN</td>\n",
       "      <td>supermarket</td>\n",
       "    </tr>\n",
       "    <tr>\n",
       "      <th>3238</th>\n",
       "      <td>9950926547</td>\n",
       "      <td>47.392404</td>\n",
       "      <td>9.569855</td>\n",
       "      <td>Volg</td>\n",
       "      <td>supermarket</td>\n",
       "    </tr>\n",
       "    <tr>\n",
       "      <th>3239</th>\n",
       "      <td>9963973121</td>\n",
       "      <td>47.321761</td>\n",
       "      <td>9.426943</td>\n",
       "      <td>Volg</td>\n",
       "      <td>supermarket</td>\n",
       "    </tr>\n",
       "    <tr>\n",
       "      <th>3240</th>\n",
       "      <td>9978766657</td>\n",
       "      <td>47.424524</td>\n",
       "      <td>7.126737</td>\n",
       "      <td>NaN</td>\n",
       "      <td>supermarket</td>\n",
       "    </tr>\n",
       "    <tr>\n",
       "      <th>3241</th>\n",
       "      <td>9979931913</td>\n",
       "      <td>46.010662</td>\n",
       "      <td>8.856326</td>\n",
       "      <td>NaN</td>\n",
       "      <td>supermarket</td>\n",
       "    </tr>\n",
       "  </tbody>\n",
       "</table>\n",
       "<p>3242 rows × 5 columns</p>\n",
       "</div>"
      ],
      "text/plain": [
       "              id        lat       lon   brand         shop\n",
       "0       33126515  47.155616  9.037915    Spar  supermarket\n",
       "1      280130028  47.155492  9.039666    ALDI  supermarket\n",
       "2     6122906632  47.158959  9.044477  Denner  supermarket\n",
       "3     9019298862  47.155185  9.038472    Lidl  supermarket\n",
       "4       36726161  47.226191  8.980329  Migros  supermarket\n",
       "...          ...        ...       ...     ...          ...\n",
       "3237  9807355484  46.711465  7.964054     NaN  supermarket\n",
       "3238  9950926547  47.392404  9.569855    Volg  supermarket\n",
       "3239  9963973121  47.321761  9.426943    Volg  supermarket\n",
       "3240  9978766657  47.424524  7.126737     NaN  supermarket\n",
       "3241  9979931913  46.010662  8.856326     NaN  supermarket\n",
       "\n",
       "[3242 rows x 5 columns]"
      ]
     },
     "execution_count": 41,
     "metadata": {},
     "output_type": "execute_result"
    }
   ],
   "source": [
    "df.loc[df['brand'] == 'Lidl']\n",
    "df"
   ]
  }
 ],
 "metadata": {
  "kernelspec": {
   "display_name": "data_analytics",
   "language": "python",
   "name": "python3"
  },
  "language_info": {
   "codemirror_mode": {
    "name": "ipython",
    "version": 3
   },
   "file_extension": ".py",
   "mimetype": "text/x-python",
   "name": "python",
   "nbconvert_exporter": "python",
   "pygments_lexer": "ipython3",
   "version": "3.10.14"
  }
 },
 "nbformat": 4,
 "nbformat_minor": 2
}
