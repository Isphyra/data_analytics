{
 "cells": [
  {
   "cell_type": "markdown",
   "id": "3f5e976f",
   "metadata": {},
   "source": [
    "# Analysis of variance (ANOVA)"
   ]
  },
  {
   "cell_type": "markdown",
   "id": "9b881ea7",
   "metadata": {},
   "source": [
    "## Libraries and settings"
   ]
  },
  {
   "cell_type": "code",
   "execution_count": 151,
   "id": "288dd545",
   "metadata": {},
   "outputs": [
    {
     "name": "stdout",
     "output_type": "stream",
     "text": [
      "Current working directory: /Users/sauternicolas/git/data_analytics/Week_06\n"
     ]
    }
   ],
   "source": [
    "# Libraries\n",
    "import os\n",
    "import pandas as pd\n",
    "import matplotlib.pyplot as plt\n",
    "import seaborn as sns\n",
    "import numpy as np\n",
    "import scipy.stats as stats\n",
    "\n",
    "# Settings for seaborn\n",
    "sns.set_theme(style=\"ticks\", palette=\"pastel\")\n",
    "\n",
    "# Ignore warnings\n",
    "import warnings\n",
    "warnings.filterwarnings(\"ignore\")\n",
    "\n",
    "# Get current working directory\n",
    "print('Current working directory:', os.getcwd())"
   ]
  },
  {
   "cell_type": "markdown",
   "id": "1fae2175",
   "metadata": {},
   "source": [
    "## Read example data (used car data)"
   ]
  },
  {
   "cell_type": "code",
   "execution_count": 152,
   "id": "3edcea41",
   "metadata": {},
   "outputs": [
    {
     "name": "stdout",
     "output_type": "stream",
     "text": [
      "Make\n",
      "VW      20\n",
      "BMW     20\n",
      "Fiat    20\n",
      "Name: count, dtype: int64\n"
     ]
    },
    {
     "data": {
      "text/html": [
       "<div>\n",
       "<style scoped>\n",
       "    .dataframe tbody tr th:only-of-type {\n",
       "        vertical-align: middle;\n",
       "    }\n",
       "\n",
       "    .dataframe tbody tr th {\n",
       "        vertical-align: top;\n",
       "    }\n",
       "\n",
       "    .dataframe thead th {\n",
       "        text-align: right;\n",
       "    }\n",
       "</style>\n",
       "<table border=\"1\" class=\"dataframe\">\n",
       "  <thead>\n",
       "    <tr style=\"text-align: right;\">\n",
       "      <th></th>\n",
       "      <th>Make</th>\n",
       "      <th>Price</th>\n",
       "    </tr>\n",
       "  </thead>\n",
       "  <tbody>\n",
       "    <tr>\n",
       "      <th>0</th>\n",
       "      <td>VW</td>\n",
       "      <td>29000</td>\n",
       "    </tr>\n",
       "    <tr>\n",
       "      <th>1</th>\n",
       "      <td>VW</td>\n",
       "      <td>38000</td>\n",
       "    </tr>\n",
       "    <tr>\n",
       "      <th>2</th>\n",
       "      <td>VW</td>\n",
       "      <td>33000</td>\n",
       "    </tr>\n",
       "    <tr>\n",
       "      <th>3</th>\n",
       "      <td>VW</td>\n",
       "      <td>64000</td>\n",
       "    </tr>\n",
       "    <tr>\n",
       "      <th>4</th>\n",
       "      <td>VW</td>\n",
       "      <td>52000</td>\n",
       "    </tr>\n",
       "  </tbody>\n",
       "</table>\n",
       "</div>"
      ],
      "text/plain": [
       "  Make  Price\n",
       "0   VW  29000\n",
       "1   VW  38000\n",
       "2   VW  33000\n",
       "3   VW  64000\n",
       "4   VW  52000"
      ]
     },
     "execution_count": 152,
     "metadata": {},
     "output_type": "execute_result"
    }
   ],
   "source": [
    "# Read data\n",
    "df = pd.read_excel('t-tests_and_ANOVA.xlsx', sheet_name='anova_data')\n",
    "\n",
    "# Show categories of 'Make'\n",
    "print(df['Make'].value_counts())\n",
    "\n",
    "# Show header\n",
    "df.head()"
   ]
  },
  {
   "cell_type": "markdown",
   "id": "19c03873",
   "metadata": {},
   "source": [
    "## Create pivot table of mean price per make"
   ]
  },
  {
   "cell_type": "code",
   "execution_count": 153,
   "id": "ba003cb5",
   "metadata": {},
   "outputs": [
    {
     "name": "stdout",
     "output_type": "stream",
     "text": [
      "Make       BMW     Fiat       VW\n",
      "Price  54000.0  34000.0  41950.0\n"
     ]
    }
   ],
   "source": [
    "# Create pivot table\n",
    "table = pd.pivot_table(df, \n",
    "                       values='Price',\n",
    "                       columns=['Make'], \n",
    "                       aggfunc=np.mean)\n",
    "print(table)"
   ]
  },
  {
   "cell_type": "markdown",
   "id": "4fb64a25",
   "metadata": {},
   "source": [
    "## Create grouped boxplot (groups = make, values = prices)"
   ]
  },
  {
   "cell_type": "code",
   "execution_count": 154,
   "id": "7c078db1",
   "metadata": {},
   "outputs": [
    {
     "data": {
      "image/png": "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",
      "text/plain": [
       "<Figure size 1000x200 with 1 Axes>"
      ]
     },
     "metadata": {},
     "output_type": "display_data"
    }
   ],
   "source": [
    "# Plot boxplot with groups\n",
    "plt.figure(figsize=(10,2))\n",
    "ax = sns.boxplot(x=\"Price\",\n",
    "                 y=\"Make\",\n",
    "                 palette=['g', 'b', 'r'],\n",
    "                 data=df,\n",
    "                 orient='h')\n",
    "plt.grid()\n",
    "plt.show()"
   ]
  },
  {
   "cell_type": "markdown",
   "id": "aa5e5add",
   "metadata": {},
   "source": [
    "## Analysis of variance (ANOVA)"
   ]
  },
  {
   "cell_type": "code",
   "execution_count": 155,
   "id": "f2f6e499",
   "metadata": {},
   "outputs": [
    {
     "name": "stdout",
     "output_type": "stream",
     "text": [
      "F-value: 9.791 p-value 0.0002\n"
     ]
    }
   ],
   "source": [
    "# Create subsets (groups)\n",
    "vw = df.loc[df['Make'] == 'VW']\n",
    "bmw = df.loc[df['Make'] == 'BMW']\n",
    "fiat = df.loc[df['Make'] == 'Fiat']\n",
    "\n",
    "# Create ANOVA\n",
    "fvalue, pvalue_m2 = stats.f_oneway(vw['Price'],\n",
    "                                fiat['Price'], \n",
    "                                bmw['Price'])\n",
    "\n",
    "# Print results\n",
    "print('F-value:', fvalue.round(3), 'p-value', pvalue_m2.round(4))"
   ]
  },
  {
   "cell_type": "markdown",
   "id": "1d460d6b",
   "metadata": {},
   "source": [
    "## Interpretation of result"
   ]
  },
  {
   "cell_type": "markdown",
   "id": "f56681c7",
   "metadata": {},
   "source": [
    "<p> Because the p-value is lower than 0.05, the null hypothesis can be rejected, i.e. there is evidence that the used car prices of VW, BMW and Fiat differ. Note that, from the ANOVA, it is not clear which groups show differences of prices. For this a post-hoc test could be used (not part of the exercises).</p>"
   ]
  },
  {
   "cell_type": "markdown",
   "id": "cf81c86c",
   "metadata": {},
   "source": [
    "## Importing apartment data"
   ]
  },
  {
   "cell_type": "code",
   "execution_count": 156,
   "id": "0d9ecff5",
   "metadata": {},
   "outputs": [
    {
     "name": "stdout",
     "output_type": "stream",
     "text": [
      "(774, 15)\n"
     ]
    },
    {
     "data": {
      "text/html": [
       "<div>\n",
       "<style scoped>\n",
       "    .dataframe tbody tr th:only-of-type {\n",
       "        vertical-align: middle;\n",
       "    }\n",
       "\n",
       "    .dataframe tbody tr th {\n",
       "        vertical-align: top;\n",
       "    }\n",
       "\n",
       "    .dataframe thead th {\n",
       "        text-align: right;\n",
       "    }\n",
       "</style>\n",
       "<table border=\"1\" class=\"dataframe\">\n",
       "  <thead>\n",
       "    <tr style=\"text-align: right;\">\n",
       "      <th></th>\n",
       "      <th>web-scraper-order</th>\n",
       "      <th>address_raw</th>\n",
       "      <th>lat</th>\n",
       "      <th>lon</th>\n",
       "      <th>bfs_number</th>\n",
       "      <th>bfs_name</th>\n",
       "      <th>rooms</th>\n",
       "      <th>area</th>\n",
       "      <th>luxurious</th>\n",
       "      <th>price</th>\n",
       "      <th>price_per_m2</th>\n",
       "      <th>pop_dens</th>\n",
       "      <th>frg_pct</th>\n",
       "      <th>mean_taxable_income</th>\n",
       "      <th>dist_supermarket</th>\n",
       "    </tr>\n",
       "  </thead>\n",
       "  <tbody>\n",
       "    <tr>\n",
       "      <th>0</th>\n",
       "      <td>1693998201-1</td>\n",
       "      <td>Neuhusstrasse 6, 8630 Rüti ZH, ZH</td>\n",
       "      <td>47.252171</td>\n",
       "      <td>8.845797</td>\n",
       "      <td>118</td>\n",
       "      <td>Rüti (ZH)</td>\n",
       "      <td>3.0</td>\n",
       "      <td>49</td>\n",
       "      <td>0</td>\n",
       "      <td>1441</td>\n",
       "      <td>29.41</td>\n",
       "      <td>1221.272366</td>\n",
       "      <td>24.841283</td>\n",
       "      <td>65362.04268</td>\n",
       "      <td>645.652248</td>\n",
       "    </tr>\n",
       "    <tr>\n",
       "      <th>1</th>\n",
       "      <td>1693998233-172</td>\n",
       "      <td>Widacherstrasse 5, 8630 Rüti ZH, ZH</td>\n",
       "      <td>47.252087</td>\n",
       "      <td>8.854919</td>\n",
       "      <td>118</td>\n",
       "      <td>Rüti (ZH)</td>\n",
       "      <td>3.0</td>\n",
       "      <td>111</td>\n",
       "      <td>0</td>\n",
       "      <td>2600</td>\n",
       "      <td>23.42</td>\n",
       "      <td>1221.272366</td>\n",
       "      <td>24.841283</td>\n",
       "      <td>65362.04268</td>\n",
       "      <td>265.102153</td>\n",
       "    </tr>\n",
       "    <tr>\n",
       "      <th>2</th>\n",
       "      <td>1693998256-331</td>\n",
       "      <td>Widenweg 14, 8630 Rüti ZH, ZH</td>\n",
       "      <td>47.253670</td>\n",
       "      <td>8.853993</td>\n",
       "      <td>118</td>\n",
       "      <td>Rüti (ZH)</td>\n",
       "      <td>3.0</td>\n",
       "      <td>58</td>\n",
       "      <td>0</td>\n",
       "      <td>1490</td>\n",
       "      <td>25.69</td>\n",
       "      <td>1221.272366</td>\n",
       "      <td>24.841283</td>\n",
       "      <td>65362.04268</td>\n",
       "      <td>94.401821</td>\n",
       "    </tr>\n",
       "    <tr>\n",
       "      <th>3</th>\n",
       "      <td>1693998265-381</td>\n",
       "      <td>Rain 1, 8630 Rüti ZH, ZH</td>\n",
       "      <td>47.259834</td>\n",
       "      <td>8.851705</td>\n",
       "      <td>118</td>\n",
       "      <td>Rüti (ZH)</td>\n",
       "      <td>4.0</td>\n",
       "      <td>118</td>\n",
       "      <td>0</td>\n",
       "      <td>3240</td>\n",
       "      <td>27.46</td>\n",
       "      <td>1221.272366</td>\n",
       "      <td>24.841283</td>\n",
       "      <td>65362.04268</td>\n",
       "      <td>106.660970</td>\n",
       "    </tr>\n",
       "    <tr>\n",
       "      <th>4</th>\n",
       "      <td>1693998276-419</td>\n",
       "      <td>Bachtelstrasse 24b, 8630 Rüti ZH, ZH</td>\n",
       "      <td>47.266113</td>\n",
       "      <td>8.866872</td>\n",
       "      <td>118</td>\n",
       "      <td>Rüti (ZH)</td>\n",
       "      <td>3.0</td>\n",
       "      <td>66</td>\n",
       "      <td>0</td>\n",
       "      <td>1450</td>\n",
       "      <td>21.97</td>\n",
       "      <td>1221.272366</td>\n",
       "      <td>24.841283</td>\n",
       "      <td>65362.04268</td>\n",
       "      <td>974.844209</td>\n",
       "    </tr>\n",
       "  </tbody>\n",
       "</table>\n",
       "</div>"
      ],
      "text/plain": [
       "  web-scraper-order                           address_raw        lat  \\\n",
       "0      1693998201-1     Neuhusstrasse 6, 8630 Rüti ZH, ZH  47.252171   \n",
       "1    1693998233-172   Widacherstrasse 5, 8630 Rüti ZH, ZH  47.252087   \n",
       "2    1693998256-331         Widenweg 14, 8630 Rüti ZH, ZH  47.253670   \n",
       "3    1693998265-381              Rain 1, 8630 Rüti ZH, ZH  47.259834   \n",
       "4    1693998276-419  Bachtelstrasse 24b, 8630 Rüti ZH, ZH  47.266113   \n",
       "\n",
       "        lon  bfs_number   bfs_name  rooms  area  luxurious  price  \\\n",
       "0  8.845797         118  Rüti (ZH)    3.0    49          0   1441   \n",
       "1  8.854919         118  Rüti (ZH)    3.0   111          0   2600   \n",
       "2  8.853993         118  Rüti (ZH)    3.0    58          0   1490   \n",
       "3  8.851705         118  Rüti (ZH)    4.0   118          0   3240   \n",
       "4  8.866872         118  Rüti (ZH)    3.0    66          0   1450   \n",
       "\n",
       "   price_per_m2     pop_dens    frg_pct  mean_taxable_income  dist_supermarket  \n",
       "0         29.41  1221.272366  24.841283          65362.04268        645.652248  \n",
       "1         23.42  1221.272366  24.841283          65362.04268        265.102153  \n",
       "2         25.69  1221.272366  24.841283          65362.04268         94.401821  \n",
       "3         27.46  1221.272366  24.841283          65362.04268        106.660970  \n",
       "4         21.97  1221.272366  24.841283          65362.04268        974.844209  "
      ]
     },
     "execution_count": 156,
     "metadata": {},
     "output_type": "execute_result"
    }
   ],
   "source": [
    "# Read the data to a pandas data frame\n",
    "df = pd.read_csv('apartments_data_enriched_cleaned.csv', \n",
    "                 sep=';', \n",
    "                 encoding='utf-8')[['web-scraper-order',\n",
    "                                    'address_raw',\n",
    "                                    'lat',\n",
    "                                    'lon',\n",
    "                                    'bfs_number',\n",
    "                                    'bfs_name',\n",
    "                                    'rooms', \n",
    "                                    'area', \n",
    "                                    'luxurious', \n",
    "                                    'price', \n",
    "                                    'price_per_m2',\n",
    "                                    'pop_dens',\n",
    "                                    'frg_pct',\n",
    "                                    'mean_taxable_income',\n",
    "                                    'dist_supermarket']]\n",
    "\n",
    "# Get number of rows and columns\n",
    "print(df.shape)\n",
    "\n",
    "# Show first records\n",
    "df.head(5)"
   ]
  },
  {
   "cell_type": "markdown",
   "id": "b302b2ab",
   "metadata": {},
   "source": [
    "## Create pivot table with mean price_per_m2 per room size"
   ]
  },
  {
   "cell_type": "code",
   "execution_count": 157,
   "id": "af5af519",
   "metadata": {},
   "outputs": [
    {
     "data": {
      "text/html": [
       "<div>\n",
       "<style scoped>\n",
       "    .dataframe tbody tr th:only-of-type {\n",
       "        vertical-align: middle;\n",
       "    }\n",
       "\n",
       "    .dataframe tbody tr th {\n",
       "        vertical-align: top;\n",
       "    }\n",
       "\n",
       "    .dataframe thead tr th {\n",
       "        text-align: left;\n",
       "    }\n",
       "\n",
       "    .dataframe thead tr:last-of-type th {\n",
       "        text-align: right;\n",
       "    }\n",
       "</style>\n",
       "<table border=\"1\" class=\"dataframe\">\n",
       "  <thead>\n",
       "    <tr>\n",
       "      <th></th>\n",
       "      <th>mean</th>\n",
       "      <th>count</th>\n",
       "    </tr>\n",
       "    <tr>\n",
       "      <th></th>\n",
       "      <th>price_per_m2</th>\n",
       "      <th>price_per_m2</th>\n",
       "    </tr>\n",
       "    <tr>\n",
       "      <th>rooms</th>\n",
       "      <th></th>\n",
       "      <th></th>\n",
       "    </tr>\n",
       "  </thead>\n",
       "  <tbody>\n",
       "    <tr>\n",
       "      <th>1.0</th>\n",
       "      <td>47.140400</td>\n",
       "      <td>50</td>\n",
       "    </tr>\n",
       "    <tr>\n",
       "      <th>1.5</th>\n",
       "      <td>59.417576</td>\n",
       "      <td>33</td>\n",
       "    </tr>\n",
       "    <tr>\n",
       "      <th>2.0</th>\n",
       "      <td>40.757105</td>\n",
       "      <td>38</td>\n",
       "    </tr>\n",
       "    <tr>\n",
       "      <th>2.5</th>\n",
       "      <td>37.391631</td>\n",
       "      <td>141</td>\n",
       "    </tr>\n",
       "    <tr>\n",
       "      <th>3.0</th>\n",
       "      <td>28.677955</td>\n",
       "      <td>44</td>\n",
       "    </tr>\n",
       "    <tr>\n",
       "      <th>3.5</th>\n",
       "      <td>29.942956</td>\n",
       "      <td>203</td>\n",
       "    </tr>\n",
       "    <tr>\n",
       "      <th>4.0</th>\n",
       "      <td>29.646429</td>\n",
       "      <td>28</td>\n",
       "    </tr>\n",
       "    <tr>\n",
       "      <th>4.5</th>\n",
       "      <td>26.493436</td>\n",
       "      <td>163</td>\n",
       "    </tr>\n",
       "    <tr>\n",
       "      <th>5.0</th>\n",
       "      <td>26.376667</td>\n",
       "      <td>3</td>\n",
       "    </tr>\n",
       "    <tr>\n",
       "      <th>5.5</th>\n",
       "      <td>23.587500</td>\n",
       "      <td>52</td>\n",
       "    </tr>\n",
       "    <tr>\n",
       "      <th>6.0</th>\n",
       "      <td>22.365000</td>\n",
       "      <td>2</td>\n",
       "    </tr>\n",
       "    <tr>\n",
       "      <th>6.5</th>\n",
       "      <td>24.638182</td>\n",
       "      <td>11</td>\n",
       "    </tr>\n",
       "    <tr>\n",
       "      <th>7.0</th>\n",
       "      <td>36.325000</td>\n",
       "      <td>2</td>\n",
       "    </tr>\n",
       "    <tr>\n",
       "      <th>7.5</th>\n",
       "      <td>23.273333</td>\n",
       "      <td>3</td>\n",
       "    </tr>\n",
       "    <tr>\n",
       "      <th>8.5</th>\n",
       "      <td>40.480000</td>\n",
       "      <td>1</td>\n",
       "    </tr>\n",
       "  </tbody>\n",
       "</table>\n",
       "</div>"
      ],
      "text/plain": [
       "              mean        count\n",
       "      price_per_m2 price_per_m2\n",
       "rooms                          \n",
       "1.0      47.140400           50\n",
       "1.5      59.417576           33\n",
       "2.0      40.757105           38\n",
       "2.5      37.391631          141\n",
       "3.0      28.677955           44\n",
       "3.5      29.942956          203\n",
       "4.0      29.646429           28\n",
       "4.5      26.493436          163\n",
       "5.0      26.376667            3\n",
       "5.5      23.587500           52\n",
       "6.0      22.365000            2\n",
       "6.5      24.638182           11\n",
       "7.0      36.325000            2\n",
       "7.5      23.273333            3\n",
       "8.5      40.480000            1"
      ]
     },
     "execution_count": 157,
     "metadata": {},
     "output_type": "execute_result"
    }
   ],
   "source": [
    "# Using pivot_table to reshape the data and calculate means \n",
    "pd.pivot_table(df[['rooms', 'price_per_m2']],\n",
    "               index=['rooms'],\n",
    "               values=['price_per_m2'],\n",
    "               aggfunc=[np.mean, 'count'])"
   ]
  },
  {
   "cell_type": "markdown",
   "id": "42e68cbc",
   "metadata": {},
   "source": [
    "## Create grouped boxplot (groups = rooms, values = prices_per_m2)"
   ]
  },
  {
   "cell_type": "code",
   "execution_count": 158,
   "id": "a1f9ca28",
   "metadata": {},
   "outputs": [
    {
     "data": {
      "image/png": "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",
      "text/plain": [
       "<Figure size 800x400 with 1 Axes>"
      ]
     },
     "metadata": {},
     "output_type": "display_data"
    }
   ],
   "source": [
    "# Plot boxplot with groups\n",
    "plt.figure(figsize=(8,4))\n",
    "ax = sns.boxplot(x=\"price_per_m2\",\n",
    "                 y=\"rooms\",\n",
    "                 data=df,\n",
    "                 orient='h')\n",
    "plt.grid()\n",
    "plt.show()"
   ]
  },
  {
   "cell_type": "markdown",
   "id": "817af4d2",
   "metadata": {},
   "source": [
    "## ANOVA to compare the price_per_m2 per number of rooms (= groups)"
   ]
  },
  {
   "cell_type": "code",
   "execution_count": 159,
   "id": "7c8696f0",
   "metadata": {},
   "outputs": [
    {
     "name": "stdout",
     "output_type": "stream",
     "text": [
      "F-value: 34.26 p-value 0.0\n"
     ]
    }
   ],
   "source": [
    "# Create subsets (groups)\n",
    "r2_5 = df.loc[df['rooms'] == 2.5]['price_per_m2']\n",
    "r3_5 = df.loc[df['rooms'] == 3.5]['price_per_m2']\n",
    "r4_5 = df.loc[df['rooms'] == 4.5]['price_per_m2']\n",
    "\n",
    "# Create ANOVA\n",
    "fvalue, pvalue_m2 = stats.f_oneway(r2_5, r3_5, r4_5)\n",
    "\n",
    "# Print results\n",
    "print('F-value:', fvalue.round(3), 'p-value', pvalue_m2.round(4))"
   ]
  },
  {
   "cell_type": "markdown",
   "id": "6fc96244",
   "metadata": {},
   "source": [
    "## Task 3"
   ]
  },
  {
   "cell_type": "code",
   "execution_count": 160,
   "id": "6dd219be",
   "metadata": {},
   "outputs": [
    {
     "name": "stdout",
     "output_type": "stream",
     "text": [
      "One-way ANOVA Price per m2:\n",
      "F-value: 91.272 p-value 0.0\n",
      "P-Value of Price_m2 is smaller then Alpha (5%), the null hypothesis is, can be rejected\n",
      "---------------------------------------------------------------------------------------------------\n",
      "One-way ANOVA Area: \n",
      "F-value: 28.478 p-value 0.0\n",
      "P-Value of Area is smaller then Alpha (5%), the null hypothesis is, can be rejected\n",
      "---------------------------------------------------------------------------------------------------\n",
      "One-way ANOVA Rooms:\n",
      "F-value: 41.043 p-value 0.0\n",
      "P-Value of Rooms is smaller then Alpha (5%), the null hypothesis is, can be rejected\n"
     ]
    }
   ],
   "source": [
    "#Create subsets (groups)\n",
    "low_population = df.loc[df['pop_dens'] <= 600]\n",
    "moderate_population = df.loc[(df['pop_dens'] > 600) & (df['pop_dens'] <= 1500)]\n",
    "high_population = df.loc[df['pop_dens'] >= 1500]\n",
    "\n",
    "#---------------------------------------------------------------------------------------------------\n",
    "\n",
    "# Create ANOVA prices per m2 c)\n",
    "fvalue, pvalue_m2 = stats.f_oneway(low_population['price_per_m2'],\n",
    "                                moderate_population['price_per_m2'],\n",
    "                                high_population['price_per_m2'])\n",
    "# Print results price \n",
    "print(\"One-way ANOVA Price per m2:\")\n",
    "print('F-value:', fvalue.round(3), 'p-value', pvalue_m2.round(4))\n",
    "\n",
    "alpha = 0.05\n",
    "\n",
    "if pvalue_m2 < alpha:\n",
    "    print(\"P-Value of Price_m2 is smaller then Alpha (5%), the null hypothesis is, can be rejected\")\n",
    "else:\n",
    "    print(\"P-Value of Price_m2 is greater then Alpha 5%,t he null hypothesis can be accapted\")\n",
    "\n",
    " #Abstandhalter\n",
    "print(\"---------------------------------------------------------------------------------------------------\")\n",
    "\n",
    "# Create ANOVA areas d)\n",
    "fvalue, pvalue_area = stats.f_oneway(low_population['area'],\n",
    "                                     moderate_population['area'],\n",
    "                                     high_population['area'])\n",
    "# Print results area\n",
    "print(\"One-way ANOVA Area: \")\n",
    "print('F-value:', fvalue.round(3), 'p-value', pvalue_area.round(4))\n",
    "\n",
    "if pvalue_area < alpha:\n",
    "    print(\"P-Value of Area is smaller then Alpha (5%), the null hypothesis is, can be rejected\")\n",
    "else:\n",
    "    print(\"P-Value of Area is greater then Alpha 5%,t he null hypothesis can be accapted\")\n",
    "\n",
    " #Abstandhalter\n",
    "print(\"---------------------------------------------------------------------------------------------------\")\n",
    "\n",
    "#Create ANOVA number of rooms e)\n",
    "fvalue, pvalue_rooms = stats.f_oneway(low_population['rooms'],\n",
    "                                     moderate_population['rooms'],\n",
    "                                    high_population['rooms'])\n",
    "# Print results rooms\n",
    "print(\"One-way ANOVA Rooms:\")\n",
    "print('F-value:', fvalue.round(3), 'p-value', pvalue_rooms.round(4))\n",
    "\n",
    "if pvalue_rooms < alpha:\n",
    "    print(\"P-Value of Rooms is smaller then Alpha (5%), the null hypothesis is, can be rejected\")\n",
    "else:\n",
    "    print(\"P-Value of Rooms is greater then Alpha 5%,t he null hypothesis can be accapted\")\n",
    "\n",
    "\n"
   ]
  },
  {
   "cell_type": "markdown",
   "id": "ea81580c",
   "metadata": {},
   "source": [
    "## Interpretation of result"
   ]
  },
  {
   "cell_type": "markdown",
   "id": "c2016b55",
   "metadata": {},
   "source": [
    "<p> Because the p-value is lower than 0.05, the null hypothesis can be rejected, i.e. there is evidence that the price per m2 differ between apartments with 2.5, 3.5 and 4.5 rooms. Note that, from the ANOVA, it is not clear which groups show price differences. For this a post-hoc test could be used (not part of the exercises).</p>"
   ]
  },
  {
   "cell_type": "markdown",
   "id": "70b9ecbd",
   "metadata": {},
   "source": [
    "### Jupyter notebook --footer info-- (please always provide this at the end of each submitted notebook)"
   ]
  },
  {
   "cell_type": "code",
   "execution_count": 161,
   "id": "2a4d9b9d",
   "metadata": {},
   "outputs": [
    {
     "name": "stdout",
     "output_type": "stream",
     "text": [
      "-----------------------------------\n",
      "POSIX\n",
      "Darwin | 24.0.0\n",
      "Datetime: 2024-10-24 14:46:55\n",
      "Python Version: 3.10.14\n",
      "-----------------------------------\n"
     ]
    }
   ],
   "source": [
    "import os\n",
    "import platform\n",
    "import socket\n",
    "from platform import python_version\n",
    "from datetime import datetime\n",
    "\n",
    "print('-----------------------------------')\n",
    "print(os.name.upper())\n",
    "print(platform.system(), '|', platform.release())\n",
    "print('Datetime:', datetime.now().strftime(\"%Y-%m-%d %H:%M:%S\"))\n",
    "print('Python Version:', python_version())\n",
    "print('-----------------------------------')"
   ]
  }
 ],
 "metadata": {
  "kernelspec": {
   "display_name": "daenv",
   "language": "python",
   "name": "python3"
  },
  "language_info": {
   "codemirror_mode": {
    "name": "ipython",
    "version": 3
   },
   "file_extension": ".py",
   "mimetype": "text/x-python",
   "name": "python",
   "nbconvert_exporter": "python",
   "pygments_lexer": "ipython3",
<<<<<<< HEAD
   "version": "3.10.14"
=======
   "version": "3.11.9"
>>>>>>> upstream/master
  }
 },
 "nbformat": 4,
 "nbformat_minor": 5
}
